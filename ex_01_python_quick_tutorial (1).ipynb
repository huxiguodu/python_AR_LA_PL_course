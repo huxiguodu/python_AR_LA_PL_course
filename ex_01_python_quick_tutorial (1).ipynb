{
 "cells": [
  {
   "cell_type": "code",
   "execution_count": 209,
   "id": "7540638c-6eaf-4cec-94f0-b25bde48a275",
   "metadata": {},
   "outputs": [
    {
     "name": "stdout",
     "output_type": "stream",
     "text": [
      "加： 8\n",
      "减： 8\n",
      "乘： 20\n",
      "除： 0.8571428571428571\n",
      "整除： 2\n",
      "余数： 1\n",
      "幂： 8\n"
     ]
    }
   ],
   "source": [
    "print(\"加：\",6+2)                  #简单的运算\n",
    "print(\"减：\",9-1)\n",
    "print(\"乘：\",4*5)\n",
    "print(\"除：\", 6/7)\n",
    "print(\"整除：\", 4//2)\n",
    "print(\"余数：\", 5%2)\n",
    "print(\"幂：\",2**3)"
   ]
  },
  {
   "cell_type": "code",
   "execution_count": 214,
   "id": "3ea92c01-d54b-41f1-9819-e07fc8b6e67e",
   "metadata": {},
   "outputs": [
    {
     "name": "stdout",
     "output_type": "stream",
     "text": [
      "monadic_equation= 19.0\n",
      "monadic_equation=19.000\n",
      "monadic_equation=19.000\n"
     ]
    }
   ],
   "source": [
    "x=6.0\n",
    "monadic_equation=3*x+1                                      #设定函数计算方法\n",
    "print(\"monadic_equation=\",monadic_equation)\n",
    "print(\"monadic_equation=%.3f\"%monadic_equation)           \n",
    "print(\"monadic_equation={:.3f}\".format(monadic_equation))   #format()字符串格式化方法"
   ]
  },
  {
   "cell_type": "code",
   "execution_count": 215,
   "id": "e49a1926-af28-4778-a891-e224058a2aeb",
   "metadata": {},
   "outputs": [
    {
     "name": "stdout",
     "output_type": "stream",
     "text": [
      "The list length=4\n",
      "Maximum value=17\n",
      "Minimum value=5\n"
     ]
    }
   ],
   "source": [
    "lst_n=list(range(5,20,4))\n",
    "print(\"The list length={}\".format(len(lst_n))) \n",
    "print(\"Maximum value={}\".format(max(lst_n)))                #最大值\n",
    "print(\"Minimum value={}\".format(min(lst_n)))                #最小值"
   ]
  },
  {
   "cell_type": "code",
   "execution_count": 63,
   "id": "716b39b9-e67f-496c-aa62-3a9bc1c960d7",
   "metadata": {},
   "outputs": [
    {
     "name": "stdout",
     "output_type": "stream",
     "text": [
      "[2:7]->['f', 'g', 'h', 'i', 'j']\n",
      "[-3:-1]->['u', 'v']\n",
      "[-2:]->['v', 'w']\n",
      "[:5]->['d', 'e', 'f', 'g', 'h']\n",
      "[:]->['d', 'e', 'f', 'g', 'h', 'i', 'j', 'k', 'l', 'm', 'n', 'o', 'p', 'q', 'r', 's', 't', 'u', 'v', 'w']\n"
     ]
    }
   ],
   "source": [
    "lst_s=list(map(chr,range(100,120)))            #分片\n",
    "print(\"[2:7]->{}\".format(lst_s[2:7]))\n",
    "print(\"[-3:-1]->{}\".format(lst_s[-3:-1]))\n",
    "print(\"[-2:]->{}\".format(lst_s[-2:]))\n",
    "print(\"[:5]->{}\".format(lst_s[:5]))\n",
    "print(\"[:]->{}\".format(lst_s[:]))"
   ]
  },
  {
   "cell_type": "code",
   "execution_count": 64,
   "id": "b14fcde7-d387-48a3-98e5-d7137e17ed98",
   "metadata": {},
   "outputs": [
    {
     "name": "stdout",
     "output_type": "stream",
     "text": [
      "['d', 'e', 'f', 'g', 'h', 'i', 'j', 'k', 'l', 'm', 'n', 'o', 'p', 'q', 'r', 's', 't', 'u', 'v', 'w']\n",
      "____________________________________________________________\n",
      "[]->['e', 'h', 'k']\n",
      "[1:8:3]->['d', 'g', 'j', 'm', 'p', 's', 'v']\n",
      "[9:6:-2]->['m', 'k', 'i']\n",
      "[18:3:-1]->['v', 't', 'r', 'p', 'n', 'l', 'j', 'h']\n",
      "[6::-3]->['k', 'i', 'g', 'e']\n",
      "[:2:-2]->['w', 'u', 's', 'q', 'o', 'm', 'k', 'i']\n"
     ]
    }
   ],
   "source": [
    "print(lst_s)\n",
    "print(\"_\"*60)\n",
    "print(\"[]->{}\".format(lst_s[1:10:3]))          #开始;结束;间隔\n",
    "print(\"[1:8:3]->{}\".format(lst_s[::3]))\n",
    "print(\"[9:6:-2]->{}\".format(lst_s[9:3:-2]))\n",
    "print(\"[18:3:-1]->{}\".format(lst_s[18:3:-2]))\n",
    "print(\"[6::-3]->{}\".format(lst_s[7::-2]))\n",
    "print(\"[:2:-2]->{}\".format(lst_s[:3:-2]))"
   ]
  },
  {
   "cell_type": "code",
   "execution_count": 32,
   "id": "19aee33b-d77e-4fe9-bccd-951b859356ed",
   "metadata": {},
   "outputs": [
    {
     "name": "stdout",
     "output_type": "stream",
     "text": [
      "['d', 'e', 'f', 'g', 'h', 'i', 50, 'k', 'l', 'm', 'n', 'o', 'p', 'q', 'r', 's', 't', 'u', 'v', 'w']\n",
      "lst_s[6]=50->['d', 'e', 'f', 'g', 'h', 'i', 50, 'k', 'l', 'm', 'n', 'o', 'p', 'q', 'r', 's', 't', 'u', 'v', 'w']\n",
      "lst_s+[None]*2->['d', 'e', 'f', 'g', 'h', 'i', 50, 'k', 'l', 'm', 'n', 'o', 'p', 'q', 'r', 's', 't', 'u', 'v', 'w', None, None]\n",
      "lst_none[8]=2021->['d', 'e', 'f', 'g', 'h', 'i', 50, 'k', 2021, 'm', 'n', 'o', 'p', 'q', 'r', 's', 't', 'u', 'v', 'w', None, None]\n",
      "lst_none[-8,-4]=list(range(4,8,2))->['d', 'e', 'f', 'g', 'h', 'i', 50, 'k', 2021, 'm', 'n', 'o', 'p', 'q', 4, 6, 'v', 'w', None, None]\n",
      "lst_none[1:1]=[1,2,3,4,5]->['d', 1, 2, 3, 4, 5, 'e', 'f', 'g', 'h', 'i', 50, 'k', 2021, 'm', 'n', 'o', 'p', 'q', 4, 6, 'v', 'w', None, None]\n",
      "del lst_none[-5:]->['d', 1, 2, 3, 4, 5, 'e', 'f', 'g', 'h', 'i', 50, 'k', 2021, 'm', 'n', 'o', 'p', 'q', 4]\n"
     ]
    }
   ],
   "source": [
    "print(lst_s)\n",
    "lst_s[6]=50                                     #第六个元素赋值\n",
    "print(\"lst_s[6]=50->{}\".format(lst_s))\n",
    "lst_none=lst_s+[None]*2                         #添加元素\n",
    "print(\"lst_s+[None]*2->{}\".format(lst_none))\n",
    "lst_none[8]=2021\n",
    "print(\"lst_none[8]=2021->{}\".format(lst_none))  #第八个赋值\n",
    "lst_none[-8:-4]=list(range(4,8,2))              #在该区域进行分片赋值\n",
    "print(\"lst_none[-8,-4]=list(range(4,8,2))->{}\".format(lst_none))\n",
    "lst_none[1:1]=[1,2,3,4,5]\n",
    "print(\"lst_none[1:1]=[1,2,3,4,5]->{}\".format(lst_none))\n",
    "del lst_none[-5:]                               #删除元素\n",
    "print(\"del lst_none[-5:]->{}\".format(lst_none))      "
   ]
  },
  {
   "cell_type": "code",
   "execution_count": 510,
   "id": "b2420ef7-5a9b-495d-bb23-1b1479b5c376",
   "metadata": {},
   "outputs": [
    {
     "name": "stdout",
     "output_type": "stream",
     "text": [
      "tuple_1=100,200,300,->(100, 200, 300)\n",
      "4*(30*4,)->(120, 120, 120, 120)\n",
      "tuple((1,2,3))->(1, 2, 3)\n",
      "tuple([6,7,8])->(6, 7, 8)\n"
     ]
    }
   ],
   "source": [
    "tuple_1=100,200,300,                                             #tuple的语法，元组的语法为tuple=(value1,value2,value3,..)，\n",
    "print(\"tuple_1=100,200,300,->{}\".format(tuple_1))\n",
    "print(\"4*(30*4,)->{}\".format(4*(30*4,)))\n",
    "print(\"tuple((1,2,3))->{}\".format(tuple((1,2,3))))           #前面是（），后面也用（）\n",
    "print(\"tuple([6,7,8])->{}\".format(tuple([6,7,8])))           #前面是[],后面也是[]"
   ]
  },
  {
   "cell_type": "code",
   "execution_count": 72,
   "id": "824f7860-5cdc-4d83-9e9e-da5996574cea",
   "metadata": {},
   "outputs": [
    {
     "name": "stdout",
     "output_type": "stream",
     "text": [
      "items->[(0, [0, 1, 2, 3]), (1, [[250, 151, 211, 136]])]\n",
      "dic=dict(items)->{0: [0, 1, 2, 3], 1: [[250, 151, 211, 136]]}\n",
      "dic[1]->[[250, 151, 211, 136]]\n"
     ]
    }
   ],
   "source": [
    "import random\n",
    "items=[(0,[i for i in range(4)]),(1,[random.sample(list(range(100,300,3)),4)])]          #使用函数建立字典，采用不同的计算公式\n",
    "print(\"items->{}\".format(items))\n",
    "dic=dict(items)\n",
    "print(\"dic=dict(items)->{}\".format(dic))\n",
    "print(\"dic[1]->{}\".format(dic[1]))"
   ]
  },
  {
   "cell_type": "code",
   "execution_count": 83,
   "id": "077b2912-61a3-4b04-85d3-20c6265dc17b",
   "metadata": {},
   "outputs": [
    {
     "name": "stdout",
     "output_type": "stream",
     "text": [
      "len(dic)->1\n",
      "dic[3]=(random.random(),random.uniform(50,200))->{0: [0, 1, 2, 3], 3: (0.034507297940270854, 181.48182040717768)}\n",
      "del dic[3]->{0: [0, 1, 2, 3]}\n",
      "1 in dic->False\n",
      "2 in dic->False\n",
      "dic.keys()->dict_keys([0])\n",
      "dic.values()->dict_values([[0, 1, 2, 3]])\n",
      "dic.items()->dict_items([(0, [0, 1, 2, 3])])\n",
      "list(dic.keys())->[0]\n"
     ]
    }
   ],
   "source": [
    "print(\"len(dic)->{}\".format(len(dic)))\n",
    "dic[3]=(random.random(),random.uniform(50,200))\n",
    "print(\"dic[3]=(random.random(),random.uniform(50,200))->{}\".format(dic))\n",
    "del dic[3]\n",
    "print(\"del dic[3]->{}\".format(dic))\n",
    "print(\"1 in dic->{}\".format(1 in dic))\n",
    "print(\"2 in dic->{}\".format(2 in dic))\n",
    "print(\"dic.keys()->{}\".format(dic.keys()))              #放在字典里\n",
    "print(\"dic.values()->{}\".format(dic.values()))\n",
    "print(\"dic.items()->{}\".format(dic.items()))\n",
    "print(\"list(dic.keys())->{}\".format(list(dic.keys())))"
   ]
  },
  {
   "cell_type": "code",
   "execution_count": 90,
   "id": "8598c9b8-5e3a-4a9f-abb8-b3329c16f04a",
   "metadata": {},
   "outputs": [
    {
     "name": "stdout",
     "output_type": "stream",
     "text": [
      "0 (0, [0, 1, 2, 3])\n"
     ]
    }
   ],
   "source": [
    "for a,b in enumerate(dic.items()): \n",
    "    print(a,b)"
   ]
  },
  {
   "cell_type": "code",
   "execution_count": 509,
   "id": "9d07fd61-8549-4c93-918f-c91da2af07e5",
   "metadata": {},
   "outputs": [
    {
     "name": "stdout",
     "output_type": "stream",
     "text": [
      "lst_a=[10, 13, 16, 19],lst_b=[100, 125, 150, 175, 200, 225, 250, 275, 300, 325, 350, 375, 400, 425, 450, 475, 500, 525, 550, 575, 600, 625, 650, 675, 700, 725, 750, 775, 800, 825, 850, 875, 900, 925, 950, 975, 1000, 1025, 1050, 1075, 1100, 1125, 1150, 1175, 1200, 1225, 1250, 1275, 1300, 1325, 1350, 1375, 1400, 1425, 1450, 1475, 1500, 1525, 1550, 1575, 1600, 1625, 1650, 1675, 1700, 1725, 1750, 1775, 1800, 1825, 1850, 1875, 1900, 1925, 1950, 1975]\n",
      "dic_2={0: [10, 13, 16, 19], 1: [100, 125, 150, 175, 200, 225, 250, 275, 300, 325, 350, 375, 400, 425, 450, 475, 500, 525, 550, 575, 600, 625, 650, 675, 700, 725, 750, 775, 800, 825, 850, 875, 900, 925, 950, 975, 1000, 1025, 1050, 1075, 1100, 1125, 1150, 1175, 1200, 1225, 1250, 1275, 1300, 1325, 1350, 1375, 1400, 1425, 1450, 1475, 1500, 1525, 1550, 1575, 1600, 1625, 1650, 1675, 1700, 1725, 1750, 1775, 1800, 1825, 1850, 1875, 1900, 1925, 1950, 1975]}\n",
      "dic_assignment={0: [10, 13, 16, 19], 1: [100, 125, 150, 175, 200, 225, 250, 275, 300, 325, 350, 375, 400, 425, 450, 475, 500, 525, 550, 575, 600, 625, 650, 675, 700, 725, 750, 775, 800, 825, 850, 875, 900, 925, 950, 975, 1000, 1025, 1050, 1075, 1100, 1125, 1150, 1175, 1200, 1225, 1250, 1275, 1300, 1325, 1350, 1375, 1400, 1425, 1450, 1475, 1500, 1525, 1550, 1575, 1600, 1625, 1650, 1675, 1700, 1725, 1750, 1775, 1800, 1825, 1850, 1875, 1900, 1925, 1950, 1975]}\n",
      "dic_2.clear()->{}\n",
      "dic_assignment={}\n",
      "dic_2[5]=list(range(2,10,2))->{5: [2, 4, 6, 8]}\n",
      "dic_copy=dic_2.copy()->{5: [2, 4, 6, 8]}\n",
      "dic_2[8]=[5,7]->{5: [2, 4, 6, 8], 8: [5, 7]}\n",
      "dic_copy={5: [2, 4, 6, 8]}\n",
      "dic_copy[7].remove(6)->{5: [2, 4, 6]}\n",
      "dic_copy.setdefault(6,[50,100])->{5: [2, 4, 6], 6: [50, 100]}\n",
      "dic_2.pop(5)->{8: [5, 7]}\n",
      "dic_update={8: [5, 45, 6, 7, 5], 9: [10, 2, 44, 75, 62]}\n",
      "dic_2.update(dic_update->{8: [5, 45, 6, 7, 5], 9: [10, 2, 44, 75, 62]}\n",
      "dic_2.get(9)->[10, 2, 44, 75, 62]\n",
      "dic_2.popitem()->{8: [5, 45, 6, 7, 5]}\n",
      "dic_3={}.fromkeys([0,1,2,3,4,'a'])->{0: None, 1: None, 2: None, 3: None, 4: None, 'a': None}\n"
     ]
    }
   ],
   "source": [
    "lst_a=list(range(10,20,3))\n",
    "lst_b=list(range(100,2000,25))\n",
    "print(\"lst_a={},lst_b={}\".format(lst_a,lst_b))\n",
    "dic_2={0:lst_a,1:lst_b}\n",
    "print(\"dic_2={}\".format(dic_2))\n",
    "dic_assignment=dic_2\n",
    "print(\"dic_assignment={}\".format(dic_assignment))\n",
    "dic_2.clear()\n",
    "print(\"dic_2.clear()->{}\".format(dic_2))\n",
    "print(\"dic_assignment={}\".format(dic_assignment))\n",
    "dic_2[5]=list(range(2,10,2))\n",
    "print(\"dic_2[5]=list(range(2,10,2))->{}\".format(dic_2))\n",
    "dic_copy=dic_2.copy()\n",
    "print(\"dic_copy=dic_2.copy()->{}\".format(dic_copy))                 #建立新的合集\n",
    "dic_2[8]=[5,7]\n",
    "print(\"dic_2[8]=[5,7]->{}\".format(dic_2))\n",
    "print(\"dic_copy={}\".format(dic_copy))\n",
    "dic_copy[5].remove(8)                                               #删除合集中特定的元素\n",
    "print(\"dic_copy[7].remove(6)->{}\".format(dic_copy))\n",
    "dic_copy.setdefault(6,[50,100])     \n",
    "print(\"dic_copy.setdefault(6,[50,100])->{}\".format(dic_copy))\n",
    "dic_2.pop(5) \n",
    "print(\"dic_2.pop(5)->{}\".format(dic_2))\n",
    "dic_update={8:[5,45,6,7,5],9:[10,2,44,75,62]}\n",
    "print(\"dic_update={}\".format(dic_update))\n",
    "dic_2.update(dic_update) \n",
    "print(\"dic_2.update(dic_update->{}\".format(dic_2))\n",
    "print(\"dic_2.get(9)->{}\".format(dic_2.get(9)))\n",
    "dic_2.popitem() \n",
    "print(\"dic_2.popitem()->{}\".format(dic_2))\n",
    "\n",
    "dic_3={}.fromkeys([0,1,2,3,4,'a'])                                   #目的是是建立空的字典\n",
    "print(\"dic_3={}\"+\".fromkeys([0,1,2,3,4,'a'])->{}\".format(dic_3)) "
   ]
  },
  {
   "cell_type": "code",
   "execution_count": 125,
   "id": "f7f834e8-04a3-4272-bcda-63a6b5d9c780",
   "metadata": {},
   "outputs": [
    {
     "name": "stdout",
     "output_type": "stream",
     "text": [
      "lst_s_1=list(\"Hello World!\")->['H', 'e', 'l', 'l', 'o', ' ', 'W', 'o', 'r', 'l', 'd', '!']\n",
      "\"Hellow\"+\" World!\"->Hellow World!\n",
      "\"+\".join(str(78910))->7+8+9+1+0\n",
      "len(\"Hellow World!\")->13\n",
      "coordinates.split(\",\")->['152.76534', '45.63', '45']\n",
      "eval(coordinates)->(152.76534, 45.63, 45)\n",
      "\"Hello World!\".lower()->hello world!\n",
      "\"Hello World!\".upper()->HELLO WORLD!\n",
      "\"Hello World!\"[2:]->llo World!\n",
      "\"    Hello World!    \".strip()->Hello World!\n",
      "\"Hello World!\".replace(\"World\",\"Grasshopper\")->Hello Grasshopper!\n",
      "hello_lst.sort()>[' ', '!', 'H', 'W', 'd', 'e', 'l', 'l', 'l', 'o', 'o', 'r']\n",
      "\"Hello World!\".find(\"Wo\")->6\n"
     ]
    }
   ],
   "source": [
    "lst_s_1=list(\"Hello World!\")\n",
    "print(\"lst_s_1=list(\\\"Hello World!\\\")->{}\".format(lst_s_1)) \n",
    "print(\"\\\"Hellow\\\"+\\\" World!\\\"->{}\".format(\"Hellow\"+\" World!\"))\n",
    "print(\"\\\"+\\\".join(str(78910))->{}\".format(\"+\".join(str(78910))))\n",
    "print(\"len(\\\"Hellow World!\\\")->{}\".format(len(\"Hellow World!\")))\n",
    "coordinates=\"152.76534,45.63,45\"\n",
    "print(\"coordinates.split(\\\",\\\")->{}\".format(coordinates.split(\",\")))\n",
    "print(\"eval(coordinates)->{}\".format(eval(coordinates))) \n",
    "print(\"\\\"Hello World!\\\".lower()->{}\".format(\"Hello World!\".lower()))      #变成同一的小写字母\n",
    "print(\"\\\"Hello World!\\\".upper()->{}\".format(\"Hello World!\".upper()))      #变成同一的大写字母\n",
    "print(\"\\\"Hello World!\\\"[2:]->{}\".format(\"Hello World!\"[2:]))\n",
    "print(\"\\\"    Hello World!    \\\".strip()->{}\".format(\"    Hello World!    \".strip()))\n",
    "print(\"\\\"Hello World!\\\".replace(\\\"World\\\",\\\"Grasshopper\\\")->{}\".format(\"Hello World!\".replace(\"World\",\"Grasshopper\")))\n",
    "hello_lst=list(\"Hello World!\")\n",
    "hello_lst.sort()\n",
    "print(\"hello_lst.sort()>{}\".format(hello_lst))\n",
    "print(\"\\\"Hello World!\\\".find(\\\"Wo\\\")->{}\".format(\"Hello World!\".find(\"Wo\")))"
   ]
  },
  {
   "cell_type": "code",
   "execution_count": 135,
   "id": "70f9c7a0-70fa-4ee4-9e80-87547b4cb7e3",
   "metadata": {},
   "outputs": [
    {
     "name": "stdout",
     "output_type": "stream",
     "text": [
      "new_str=format_str % values->Ni Hao,'world' and 'Grasshopper'!\n",
      "new_str_1=format_str_1 % (pi,8.94576)->Pi with three decimals:3.142,and enter a value with percent sign:8.95 %\n"
     ]
    }
   ],
   "source": [
    "format_str=\"Ni Hao,%a and %a!\"                                                         #%s称为转换说明符(conversion specifier)\n",
    "values=(\"world\",\"Grasshopper\")\n",
    "new_str=format_str % values\n",
    "print(\"new_str=format_str % values->{}\".format(new_str))\n",
    "format_str_1=\"Pi with three decimals:%.3f,and enter a value with percent sign:%.2f %%\"    \n",
    "from math import pi\n",
    "new_str_1=format_str_1 % (pi,8.94576)                                                  #对后一位小数进行四舍五入\n",
    "print(\"new_str_1=format_str_1 % (pi,8.94576)->{}\".format(new_str_1))                   "
   ]
  },
  {
   "cell_type": "code",
   "execution_count": 150,
   "id": "a13d553d-70d1-4e82-837a-086382397011",
   "metadata": {},
   "outputs": [
    {
     "name": "stdout",
     "output_type": "stream",
     "text": [
      "   3.141593,       3.14,3.1415927,Hi World,'Hi World!',16.000000,19,3.141593\n"
     ]
    }
   ],
   "source": [
    "format_str_1=\"%11f,%11.2f,%.7f,%.8s,%.*a,%f,%x,%f\"\n",
    "new_str_1=format_str_1%(pi,pi,pi,\"Hi World!\",13,\"Hi World!\",16,25,pi)     \n",
    "print(\"{}\".format(new_str_1))"
   ]
  },
  {
   "cell_type": "code",
   "execution_count": 160,
   "id": "7aa277dc-5956-41c2-915a-175b642d0e83",
   "metadata": {},
   "outputs": [
    {
     "name": "stdout",
     "output_type": "stream",
     "text": [
      "s_1=s_template_1.substitute(x=\"xuejiawei\")->xuejiawei,tall,xuejiawei!\n",
      "s_2=s_template_2.substitute(x=\"xue\")->xuejiawei is great!\n",
      "substitute_dict={'x': 'xuejiawei', 'y': ' his partner'}\n",
      "s_3=s_template_3.substitute(substitute_dict)->xuejiawei and  his partner are great!\n"
     ]
    }
   ],
   "source": [
    "from string import Template                           #Template()函数-模板字符串+$+st.substitute(\n",
    "s_template_1=Template(\"$x,tall,$x!\")                  #在中间插入\n",
    "s_1=s_template_1.substitute(x=\"xuejiawei\")\n",
    "print(\"s_1=s_template_1.substitute(x=\\\"xuejiawei\\\")->{}\".format(s_1))\n",
    "s_template_2=Template(\"${x}jiawei is great!\")\n",
    "s_2=s_template_2.substitute(x=\"xue\")\n",
    "print(\"s_2=s_template_2.substitute(x=\\\"xue\\\")->{}\".format(s_2))\n",
    "s_template_3=Template(\"$x and $y are great!\")\n",
    "substitute_dict=dict([('x','xuejiawei'),('y',' his partner')])\n",
    "print(\"substitute_dict={}\".format(substitute_dict))\n",
    "s_3=s_template_3.substitute(substitute_dict)\n",
    "print(\"s_3=s_template_3.substitute(substitute_dict)->{}\".format(s_3))"
   ]
  },
  {
   "cell_type": "code",
   "execution_count": 162,
   "id": "40f08195-6f69-4652-9a45-b199d9b9d616",
   "metadata": {},
   "outputs": [
    {
     "name": "stdout",
     "output_type": "stream",
     "text": [
      "re.findall(pattern_1,text)->['World']\n",
      "re.findall(pattern_2,text)->[]\n"
     ]
    }
   ],
   "source": [
    "import re                     #正则表达式可以处理更复杂的字符串，其本质是可以匹配文本片断的模式。\n",
    "pattern_1='World'         \n",
    "text=\"Hi World!\"\n",
    "print(\"re.findall(pattern_1,text)->{}\".format(re.findall(pattern_1,text)))\n",
    "pattern_2='python'\n",
    "print(\"re.findall(pattern_2,text)->{}\".format(re.findall(pattern_2,text)))"
   ]
  },
  {
   "cell_type": "code",
   "execution_count": 165,
   "id": "6c46044e-5996-4b51-ade8-0dfa790bcb21",
   "metadata": {},
   "outputs": [
    {
     "name": "stdout",
     "output_type": "stream",
     "text": [
      "re.findall('.orld','Hi World!')->['World']\n",
      "re.findall('.orld','Hi orld!')->[' orld']\n",
      "re.findall('.orld','Hi oWorld!')->['World']\n",
      "re.findall('.orld','Hi Wrld!')->[]\n"
     ]
    }
   ],
   "source": [
    "print(\"re.findall('.orld','Hi World!')->{}\".format(re.findall('.orld','Hi World!')))       #(.)点号的运用\n",
    "print(\"re.findall('.orld','Hi orld!')->{}\".format(re.findall('.orld','Hi orld!')))\n",
    "print(\"re.findall('.orld','Hi oWorld!')->{}\".format(re.findall('.orld','Hi oWorld!')))\n",
    "print(\"re.findall('.orld','Hi Wrld!')->{}\".format(re.findall('.orld','Hi Wrld!')))"
   ]
  },
  {
   "cell_type": "code",
   "execution_count": 172,
   "id": "748f2f30-12f0-4124-b04c-2de7b0c43a32",
   "metadata": {},
   "outputs": [
    {
     "name": "stdout",
     "output_type": "stream",
     "text": [
      "re.findall(r'w?ppt\\.cn,w+\\.ppt\\.cn','ppt.cn,www.ppt.cn')->['ppt.cn,www.ppt.cn']\n",
      "re.findall(r'w{1}\\.ppt\\.cn','www.ppt.cn')->['w.ppt.cn']\n",
      "re.findall(r'w{2,3}\\.ppt\\.cn','www.ppt.cn')->['www.ppt.cn']\n"
     ]
    }
   ],
   "source": [
    "print(\"re.findall(r'w?ppt\\.cn,w+\\.ppt\\.cn','ppt.cn,www.ppt.cn')->{}\".format(re.findall(r'w?ppt\\.cn,w+\\.ppt\\.cn','ppt.cn,www.ppt.cn')))\n",
    "print(\"re.findall(r'w{1}\"+\"\\.ppt\\.cn','www.ppt.cn')->{}\".format(re.findall(r'w{1}\\.ppt\\.cn','www.ppt.cn')))\n",
    "print(\"re.findall(r'w{2,3}\"+\"\\.ppt\\.cn','www.ppt.cn')->{}\".format(re.findall(r'w{2,3}\\.ppt\\.cn','www.ppt.cn')))"
   ]
  },
  {
   "cell_type": "code",
   "execution_count": 338,
   "id": "9e2cc904-0851-481d-9bf5-55e2d2a08251",
   "metadata": {},
   "outputs": [
    {
     "name": "stdout",
     "output_type": "stream",
     "text": [
      "re.findall('[wo]*rld!','Hi World!')->['World!']\n",
      "re.findall('[Wo]*rld!','Hi World!')->[]\n",
      "re.findall('[Wo]*rld!','Hi orld!')->['rld!']\n",
      "re.findall('[Wo]*rld!','Hi orld!')->['orld!']\n"
     ]
    }
   ],
   "source": [
    "print(\"re.findall('[wo]*rld!','Hi World!')->{}\".format(re.findall('[Wo]*rld!','Hi World!')))\n",
    "print(\"re.findall('[Wo]*rld!','Hi World!')->{}\".format(re.findall('[Wo]*rld!','Hi Word!')))\n",
    "print(\"re.findall('[Wo]*rld!','Hi orld!')->{}\".format(re.findall('[Wo]*rld!','Hi rld!')))\n",
    "print(\"re.findall('[Wo]*rld!','Hi orld!')->{}\".format(re.findall('[Wo]*rld!','Hi orld!')))"
   ]
  },
  {
   "cell_type": "code",
   "execution_count": 178,
   "id": "7ed68055-5ddd-4e55-95c4-ca4e10c12ac9",
   "metadata": {},
   "outputs": [
    {
     "name": "stdout",
     "output_type": "stream",
     "text": [
      "re.findall('world|xuejiawei','world')->['world']\n",
      "re.findall('world|xuejiawei','xuejiawei')->['xuejiawei']\n",
      "re.findall('world|xuejiawei','xuejiawei and python')->['xuejiawei', 'world']\n"
     ]
    }
   ],
   "source": [
    "print(\"re.findall('world|xuejiawei','world')->{}\".format(re.findall('world|xuejiawei','world')))        #(|)管道符号\n",
    "print(\"re.findall('world|xuejiawei','xuejiawei')->{}\".format(re.findall('world|xuejiawei','xuejiawei')))\n",
    "print(\"re.findall('world|xuejiawei','xuejiawei and world')->{}\".format(re.findall('world|xuejiawei','xuejiawei and world')))   "
   ]
  },
  {
   "cell_type": "code",
   "execution_count": 185,
   "id": "b4a6e752-ddc8-4641-b8c5-28e26e2ab088",
   "metadata": {},
   "outputs": [
    {
     "name": "stdout",
     "output_type": "stream",
     "text": [
      "re.findall('\u0007','number=8')->[]\n",
      "re.findall('\\A','number=8')->['']\n",
      "re.findall('[^1-9]','number=8')->['n', 'u', 'm', 'b', 'e', 'r', '=']\n"
     ]
    }
   ],
   "source": [
    "print(\"re.findall('\\a','number=8')->{}\".format(re.findall('\\a','number=8')))     #\\d \\D\n",
    "print(\"re.findall('\\A','number=8')->{}\".format(re.findall('\\A','number=8')))\n",
    "print(\"re.findall('[^1-9]','number=8')->{}\".format(re.findall('[^1-9]','number=8')))"
   ]
  },
  {
   "cell_type": "code",
   "execution_count": 191,
   "id": "4023653d-2f4b-42f1-81ad-a60d639c6bb9",
   "metadata": {},
   "outputs": [
    {
     "name": "stdout",
     "output_type": "stream",
     "text": [
      "re.findall('[b-y]','apple)->['p', 'p', 'l', 'e']\n",
      "re.search('[b-y]+','apple')-><re.Match object; span=(1, 5), match='pple'>\n",
      "re.search('[b-y]+','apple')->found it!\n",
      "re.split(',','big,,,apple!')->['big', '', '', 'apple!']\n",
      "re.sub('apple','pear','big apple!')->big pear!\n",
      "pattern_compile.findall('big,,,apple!')->['apple']\n",
      "re.match('a','apple')->found it!\n"
     ]
    }
   ],
   "source": [
    "print(\"re.findall('[b-y]','apple)->{}\".format(re.findall('[b-y]','apple-3.0')))    #re模块的方法\n",
    "print(\"re.search('[b-y]+','apple')->{}\".format(re.search('[b-y]+','apple')))       #字母分开\n",
    "if re.search('[b-y]+','apple'):\n",
    "    print(\"re.search('[b-y]+','apple')->found it!\")\n",
    "print(\"re.split(',','big,,,apple!')->{}\".format(re.split(',','big,,,apple!')))\n",
    "print(\"re.sub('apple','pear','big apple!')->{}\".format(re.sub('apple','pear','big apple!')))\n",
    "\n",
    "pattern_compile=re.compile('apple')\n",
    "print(\"pattern_compile.findall('big,,,apple!')->{}\".format(pattern_compile.findall('big,,,apple!')))\n",
    "\n",
    "if re.match('a','apple'):\n",
    "    print(\"re.match('a','apple')->found it!\")"
   ]
  },
  {
   "cell_type": "code",
   "execution_count": 195,
   "id": "c82b9777-3478-459b-bd26-5a3c9e684066",
   "metadata": {},
   "outputs": [
    {
     "name": "stdout",
     "output_type": "stream",
     "text": [
      "'apple'.find('apple')->0\n",
      "'apple'.find('pple')->1\n",
      "'apple'.find('a')->0\n",
      "'a' in 'apple'->True\n"
     ]
    }
   ],
   "source": [
    "print(\"\\'apple\\'.find(\\'apple\\')->{}\".format('apple'.find('apple')))                #寻找元素\n",
    "print(\"\\'apple\\'.find(\\'pple\\')->{}\".format('apple'.find('pple')))\n",
    "print(\"\\'apple\\'.find(\\'a\\')->{}\".format('apple'.find('a')))\n",
    "print(\"\\'a\\' in \\'apple\\'->{}\".format('a' in 'apple'))"
   ]
  },
  {
   "cell_type": "code",
   "execution_count": 336,
   "id": "8057f27f-4248-44d4-b6bb-8d154edcf63b",
   "metadata": {},
   "outputs": [
    {
     "name": "stdout",
     "output_type": "stream",
     "text": [
      "'i,,,,World!'.split(',')->['i', '', '', '', 'World!']\n",
      "'i World!'.replace('World','pear')->pear World!\n"
     ]
    }
   ],
   "source": [
    "print(\"\\'i,,,,World!\\'.split(',')->{}\".format( 'i,,,,World!'.split(',')))            #替换元素\n",
    "print(\"\\'i World!\\'.replace(\\'World\\',\\'pear\\')->{}\".format( 'i World!'.replace('i','pear')))"
   ]
  },
  {
   "cell_type": "code",
   "execution_count": 208,
   "id": "b380e265-7129-4171-a20f-3ace18c77831",
   "metadata": {},
   "outputs": [
    {
     "name": "stdout",
     "output_type": "stream",
     "text": [
      "match_1.apple(1)->world\n",
      "match_1.start(1)->4\n",
      "match_1.end(1)->9\n",
      "match_1.span(1)->(4, 9)\n",
      "match_2.apple(1)->world\n",
      "match_2.apple(2)->org\n"
     ]
    }
   ],
   "source": [
    "match_1=re.match(r'www\\.(.*)\\..{3}','www.world.org')             #匹配对象和组\n",
    "print(\"match_1.apple(1)->{}\".format(match_1.group(1)))         \n",
    "print(\"match_1.start(1)->{}\".format(match_1.start(1)))                       \n",
    "print(\"match_1.end(1)->{}\".format(match_1.end(1)))\n",
    "print(\"match_1.span(1)->{}\".format(match_1.span(1)))             #m.start()方法获取组的开始索引值，m.end()则获取结束位置索引值，m.span()返回区间值。\n",
    "match_2=re.match(r'www\\.(.*)\\.(.{3})','www.world.org')\n",
    "print(\"match_2.apple(1)->{}\".format(match_2.group(1)))\n",
    "print(\"match_2.apple(2)->{}\".format(match_2.group(2)))"
   ]
  },
  {
   "cell_type": "code",
   "execution_count": 515,
   "id": "0fb47ca7-81a3-4700-a743-15f1b7ca43ec",
   "metadata": {},
   "outputs": [
    {
     "name": "stdout",
     "output_type": "stream",
     "text": [
      "lst_1=[28, 32, 36, 40, 44]\n",
      "____________________\n",
      "for i in lst_1:\n",
      "28\n",
      "32\n",
      "36\n",
      "40\n",
      "44\n",
      "for i in range(len(lst_1)):\n",
      "idx=0,val=28\n",
      "idx=1,val=32\n",
      "idx=2,val=36\n",
      "idx=3,val=40\n",
      "idx=4,val=44\n",
      "____________________\n",
      "dic_4={'a': 11, 'b': 12, 'c': 13, 'd': 14}\n",
      "____________________\n",
      "for m in dic_4:\n",
      "a\n",
      "b\n",
      "c\n",
      "d\n",
      "for m,v in dic_4.items():\n",
      "key=a,val=11\n",
      "key=b,val=12\n",
      "key=c,val=13\n",
      "key=d,val=14\n"
     ]
    }
   ],
   "source": [
    "lst_1=list(range(28,47,4))\n",
    "print(\"lst_1={}\".format(lst_1))\n",
    "print(\"_\"*40)\n",
    "print(\"for i in lst_1:\")\n",
    "for i in lst_1:                               #for语句循环\n",
    "    print(i)\n",
    "print(\"for i in range(len(lst_1)):\")\n",
    "for i in range(len(lst_1)):\n",
    "    print(\"idx={},val={}\".format(i,lst_1[i]))\n",
    "print(\"_\"*20)   \n",
    "dic_4=dict(a=11,b=12,c=13,d=14)\n",
    "print(\"dic_4={}\".format(dic_4))\n",
    "print(\"_\"*20)\n",
    "print(\"for m in dic_4:\")\n",
    "for m in dic_4:\n",
    "    print(m)\n",
    "print(\"for m,v in dic_4.items():\")\n",
    "for m,v in dic_4.items():\n",
    "    print(\"key={},val={}\".format(m,v))\n"
   ]
  },
  {
   "cell_type": "code",
   "execution_count": 512,
   "id": "a7006381-47c5-4edc-83fb-360bd20562f5",
   "metadata": {},
   "outputs": [
    {
     "name": "stdout",
     "output_type": "stream",
     "text": [
      "x=10\n",
      "x=25\n",
      "x=40\n",
      "x=55\n",
      "x=70\n",
      "x=85\n",
      "x=100\n",
      "x=115\n",
      "x=130\n",
      "x=145\n",
      "x=160\n",
      "x=175\n",
      "x=190\n"
     ]
    }
   ],
   "source": [
    "x=10                            #while语句循环\n",
    "while x<=200:                   #规定结束范围\n",
    "    print(\"x={}\".format(x))\n",
    "    x+=15                      #增量量的赋值    "
   ]
  },
  {
   "cell_type": "code",
   "execution_count": 326,
   "id": "e7331175-69ab-4793-bd73-257f11692a5b",
   "metadata": {},
   "outputs": [
    {
     "name": "stdout",
     "output_type": "stream",
     "text": [
      "x=3\n",
      "x=18\n",
      "x=33\n",
      "x=48\n",
      "x=63\n",
      "sys.maxsize=9223372036854775807\n",
      "i=0\n",
      "i=1\n",
      "i=2\n",
      "i=3\n",
      "i=4\n",
      "i=5\n",
      "i=6\n",
      "i=7\n",
      "i=8\n",
      "i=9\n",
      "i=10\n",
      "i=11\n",
      "i=12\n",
      "i=13\n",
      "i=14\n",
      "i=15\n",
      "i=16\n",
      "i=17\n",
      "i=18\n",
      "i=19\n",
      "i=20\n",
      "i=21\n",
      "i=22\n",
      "i=23\n",
      "i=24\n",
      "i=25\n",
      "i=26\n",
      "i=27\n",
      "i=28\n",
      "i=29\n",
      "i=30\n"
     ]
    }
   ],
   "source": [
    "x=3\n",
    "while x<=150:\n",
    "    print(\"x={}\".format(x))\n",
    "    x+=15   \n",
    "    if x>=75:break              #设定规定，看元素是否能通过\n",
    "    \n",
    "import sys\n",
    "print(\"sys.maxsize={}\".format(sys.maxsize))\n",
    "for i in range(sys.maxsize):\n",
    "    print(\"i={}\".format(i))  \n",
    "    i+=15                       #与结束元素的关系\n",
    "    if i>=45:break"
   ]
  },
  {
   "cell_type": "code",
   "execution_count": 253,
   "id": "ce37b46f-9542-47af-8b14-50371e02a228",
   "metadata": {},
   "outputs": [
    {
     "name": "stdout",
     "output_type": "stream",
     "text": [
      "zip_lst=zip(lst_a,lst_b)-><zip object at 0x0000021822588440>\n",
      "dict(zip_lst)->{10: 'point_q', 20: 'point_w', 30: 'point_e', 40: 'point_r'}\n",
      "10 point_q\n",
      "20 point_w\n",
      "30 point_e\n",
      "40 point_r\n",
      "a=(10, 20, 30, 40),b=('point_q', 'point_w', 'point_e', 'point_r')\n"
     ]
    }
   ],
   "source": [
    "lst_a=[10,20,30,40]                                                     #并行迭代\n",
    "lst_b=['point_q','point_w','point_e','point_r']\n",
    "zip_lst=zip(lst_a,lst_b) \n",
    "print(\"zip_lst=zip(lst_a,lst_b)->{}\".format(zip_lst))\n",
    "print(\"dict(zip_lst)->{}\".format(dict(zip_lst)))\n",
    "\n",
    "zip_lst=zip(lst_a,lst_b)                                            #迭代对象临时储存，读取完后为空\n",
    "for a,b in zip_lst:\n",
    "    print(a,b)\n",
    "    \n",
    "zip_lst=zip(lst_a,lst_b)\n",
    "a,b=zip(*zip_lst)\n",
    "print(\"a={},b={}\".format(a,b))"
   ]
  },
  {
   "cell_type": "code",
   "execution_count": 263,
   "id": "0509a4a5-2641-4024-a523-de8928a6bd21",
   "metadata": {},
   "outputs": [
    {
     "name": "stdout",
     "output_type": "stream",
     "text": [
      "dic_2={0: 'point_q', 1: 'point_w', 2: 'point_e', 3: 'point_r'}\n",
      "dict((a,b) for a,b in enumerate(lst_1))->{10: 'point_q'}\n",
      "________________________________________\n",
      "10:10,point_q\n",
      "20:20,point_w\n",
      "30:30,point_e\n",
      "40:40,point_r\n"
     ]
    }
   ],
   "source": [
    "lst_1=['point_q','point_w','point_e','point_r']                          #编号迭代\n",
    "dic_2={}\n",
    "for idx,value in enumerate(lst_1):\n",
    "    dic_2[idx]=value\n",
    "print(\"dic_2={}\".format(dic_2))\n",
    "print(\"dict((a,b) for a,b in enumerate(lst_1))->{}\".format(dict((a,b) for i,v in enumerate(lst_c)))) \n",
    "print(\"_\"*40)\n",
    "for i,(a,b) in enumerate(zip(lst_a,lst_b)):\n",
    "    print('%d:%s,%s'%(a,a,b))"
   ]
  },
  {
   "cell_type": "code",
   "execution_count": 288,
   "id": "0c10d54a-b213-46aa-93dd-3c09c1f67003",
   "metadata": {},
   "outputs": [
    {
     "name": "stdout",
     "output_type": "stream",
     "text": [
      "[a*a for x in range(2,25,7) if x%2==0]->[81, 529]\n",
      "[(q,w) for q in range(4)for y in range(1)]->[(0, 0), (1, 0), (2, 0), (3, 0)]\n",
      "[(q,w) for q,w in zip(range(4),range(1))]->[(0, 0)]\n",
      "[[a for a in range(4,50,6)],8,3,[b for b in range(50,80,7)],[[c for c in range(2500,3500,150)],3,6]]->[[4, 10, 16, 22, 28, 34, 40, 46], 8, 3, [50, 57, 64, 71, 78], [[2500, 2650, 2800, 2950, 3100, 3250, 3400], 3, 6]]\n",
      "flatten_lst(nested_list)->[4, 10, 16, 22, 28, 34, 40, 46, 8, 3, 50, 57, 64, 71, 78, 2500, 2650, 2800, 2950, 3100, 3250, 3400, 3, 6]\n"
     ]
    }
   ],
   "source": [
    "print(\"[a*a for x in range(2,25,7) if x%2==0]->{}\".format([x*x for x in range(2,25,7) if x%2==1]))                  #list comprehension(列表推导式)\n",
    "print(\"[(q,w) for q in range(4)for y in range(1)]->{}\".format([(q,w) for q in range(4)for w in range(1)]))\n",
    "print(\"[(q,w) for q,w in zip(range(4),range(1))]->{}\".format([(q,w) for q,w in zip(range(4),range(1))]))\n",
    "nested_list=[[a for a in range(4,50,6)],8,3,[b for b in range(50,80,7)],[[c for c in range(2500,3500,150)],3,6]]\n",
    "print(\"[[a for a in range(4,50,6)],8,3,[b for b in range(50,80,7)],[[c for c in range(2500,3500,150)],3,6]]->{}\".format(nested_list)) \n",
    "\n",
    "flatten_lst=lambda lst: [m for n_lst in lst for m in flatten_lst(n_lst)] if type(lst) is list else [lst]            #展平列表\n",
    "print(\"flatten_lst(nested_list)->{}\".format(flatten_lst(nested_list)))"
   ]
  },
  {
   "cell_type": "code",
   "execution_count": 516,
   "id": "789cf748-997a-4857-8087-6e125058ffed",
   "metadata": {},
   "outputs": [
    {
     "name": "stdout",
     "output_type": "stream",
     "text": [
      "Positive and larger than or equal to 45.\n"
     ]
    }
   ],
   "source": [
    "x=45                                             #条件语句模式\n",
    "if x<15:                                        #条件的判断\n",
    "                                                #x==y ->x 等于y\n",
    "                                                #x<y -> x小于y\n",
    "                                                #x>y -> x大于y\n",
    "                                                #x>=y -> x大于等于y\n",
    "                                                #x<=y -> x小于等于y\n",
    "                                                #x!=y -> x不等于y\n",
    "    print('It is negative.')\n",
    "elif x==15:\n",
    "    print('Equal to zero.')\n",
    "elif 15<x<45:\n",
    "    print('Positive but smaller than 45')\n",
    "else:\n",
    "    print('Positive and larger than or equal to 45.')"
   ]
  },
  {
   "cell_type": "code",
   "execution_count": 302,
   "id": "356b3544-cc90-42ea-9aca-946933e2b640",
   "metadata": {},
   "outputs": [
    {
     "name": "stdout",
     "output_type": "stream",
     "text": [
      "x==y->True\n",
      "x is y->True\n",
      "x==z->True\n",
      "x is z->False\n",
      "x is not y->False\n",
      "x is not z->True\n",
      "id_x:2302624208384;id_y:2302624208384;id_z:2302678770368\n",
      "x=[4, 6],y=[4, 6],z=[4, 5, 6] after del x[3]\n"
     ]
    }
   ],
   "source": [
    "x=y=[4,5,6]                                   #条件语句的判断\n",
    "z=[4,5,6]\n",
    "print(\"x==y->{}\".format(x==y))\n",
    "print(\"x is y->{}\".format(x is y))\n",
    "print(\"x==z->{}\".format(x==z))\n",
    "print(\"x is z->{}\".format(x is z))\n",
    "print(\"x is not y->{}\".format(x is not y))\n",
    "print(\"x is not z->{}\".format(x is not z))\n",
    "print(\"id_x:{};id_y:{};id_z:{}\".format(id(x),id(y),id(z)))\n",
    "\n",
    "del x[1]\n",
    "print(\"x={},y={},z={} after del x[3]\".format(x,y,z))"
   ]
  },
  {
   "cell_type": "code",
   "execution_count": 311,
   "id": "33041102-f2d5-43da-b78b-9843461e7715",
   "metadata": {},
   "outputs": [
    {
     "name": "stdout",
     "output_type": "stream",
     "text": [
      "5 in x->True\n",
      "1 in x->False\n",
      "5 not in x->False\n",
      "1 not in x->True\n"
     ]
    }
   ],
   "source": [
    "x=[4,5,6]                              #元素运算符，看是否包含在内，in输出为True,not in输出为False\n",
    "print(\"5 in x->{}\".format(5 in x))\n",
    "print(\"1 in x->{}\".format(1 in x))\n",
    "print(\"5 not in x->{}\".format(5 not in x))\n",
    "print(\"1 not in x->{}\".format(1 not in x))"
   ]
  },
  {
   "cell_type": "code",
   "execution_count": 340,
   "id": "1f8a9dc8-8e06-402f-9a14-6f39f40d239f",
   "metadata": {},
   "outputs": [
    {
     "name": "stdout",
     "output_type": "stream",
     "text": [
      "q<w<e good!\n"
     ]
    }
   ],
   "source": [
    "q,w,e=40,15,36                    #布尔运算符\n",
    "if q<w and w<e:\n",
    "    print('q<e<w')\n",
    "else: print('q<w<e good!')"
   ]
  },
  {
   "cell_type": "code",
   "execution_count": 348,
   "id": "f4a66cfa-28c9-4818-be26-4375d2b30fd6",
   "metadata": {},
   "outputs": [
    {
     "name": "stdout",
     "output_type": "stream",
     "text": [
      "simple_simple(4,6)->22\n",
      "simple_simple(5,8)->33\n",
      "simple_simple(x=12,y=11)->155\n"
     ]
    }
   ],
   "source": [
    "print(\"simple_simple(4,6)->{}\".format(simple_func(4,6)))             #定义函数\n",
    "print(\"simple_simple(5,8)->{}\".format(simple_func(5,8)))\n",
    "print(\"simple_simple(x=12,y=11)->{}\".format(simple_func(x=12,y=11)))"
   ]
  },
  {
   "cell_type": "code",
   "execution_count": 353,
   "id": "98c209e6-3454-4d78-a974-b4284c1fb4a4",
   "metadata": {},
   "outputs": [
    {
     "name": "stdout",
     "output_type": "stream",
     "text": [
      "fibonacci(10,13)->[8, 13, 21, 34, 55, 89, 144, 233, 377, 610, 987, 1597, 2584]\n",
      "fibonacci(8,12)->[8, 13, 21, 34, 55, 89, 144, 233, 377, 610, 987, 1597]\n"
     ]
    }
   ],
   "source": [
    "def fibonacci(s,count):                #定义斐波那契数列(Successione di Fibonacci)函数\n",
    "    fib_lst=[0,1]\n",
    "    fib_part=[]\n",
    "    if s==0 or s==1:\n",
    "        fib_part[:]=fib_lst\n",
    "        for i in range(count-2):\n",
    "            fib_part.append(fib_part[-1]+fib_part[-2])\n",
    "    else:\n",
    "        while True:\n",
    "            fib_lst[:]=[fib_lst[1],fib_lst[0]+fib_lst[1]]\n",
    "            #print(fib_lst)\n",
    "            if fib_lst[1]-s>=0:break\n",
    "        fib_part[:]=fib_lst\n",
    "        if abs(fib_lst[0]-s)>=abs(fib_lst[1]-s):\n",
    "            for i in range(count-1):\n",
    "                fib_part.append(fib_part[-1]+fib_part[-2])\n",
    "            fib_part.pop(0)\n",
    "        else:\n",
    "            for i in range(count-2):\n",
    "                fib_part.append(fib_part[-1]+fib_part[-2])\n",
    "    return fib_part\n",
    "\n",
    "print(\"fibonacci(10,13)->{}\".format(fibonacci(10,13)))\n",
    "print(\"fibonacci(8,12)->{}\".format(fibonacci(8,12)))\n",
    "\n"
   ]
  },
  {
   "cell_type": "code",
   "execution_count": 369,
   "id": "99e30cea-376d-42df-a508-cbc9150a5ae7",
   "metadata": {},
   "outputs": [
    {
     "name": "stdout",
     "output_type": "stream",
     "text": [
      "12\n"
     ]
    }
   ],
   "source": [
    "def factorial(n):\n",
    "    if n==3:\n",
    "        return 3\n",
    "    else:\n",
    "        return n*factorial(n-1)\n",
    "print(factorial(4))"
   ]
  },
  {
   "cell_type": "code",
   "execution_count": 472,
   "id": "1e5b02ec-876b-481b-a28f-836fc877e5e5",
   "metadata": {},
   "outputs": [
    {
     "name": "stdout",
     "output_type": "stream",
     "text": [
      "swift.run->Wowowwo\n",
      "swift.eat()->\n",
      "hahahaha...\n",
      "swift.eat()->\n",
      "heng.\n",
      "swift.shout()->\n",
      "wolf\n"
     ]
    }
   ],
   "source": [
    "class dog:\n",
    "    run='Wowowwo'  \n",
    "    def __init__(self):\n",
    "        self.happy=True\n",
    "    def eat(self):\n",
    "        if self.happy:\n",
    "            print('hahahaha...')\n",
    "            self.happy=False\n",
    "        else:\n",
    "            print('heng.')\n",
    "class Apodidae(dog): \n",
    "    def __init__(self):\n",
    "        super(Apodidae,self).__init__()\n",
    "        self.sound='wolf' \n",
    "    def shout(self):\n",
    "        print(self.sound)\n",
    "swift=Apodidae()\n",
    "print(\"swift.run->{}\".format(swift.run))\n",
    "print(\"swift.eat()->\")\n",
    "swift.eat()\n",
    "print(\"swift.eat()->\")\n",
    "swift.eat()\n",
    "print(\"swift.shout()->\")\n",
    "swift.shout()\n"
   ]
  },
  {
   "cell_type": "code",
   "execution_count": 473,
   "id": "70c976b0-2aa3-472c-8662-5396c3f2b935",
   "metadata": {},
   "outputs": [
    {
     "name": "stdout",
     "output_type": "stream",
     "text": [
      "blackswift.shout()->\n",
      "wolf\n",
      "scarceswift.shout()->\n",
      "wolf\n"
     ]
    }
   ],
   "source": [
    "blackswift=Apodidae()\n",
    "scarceswift=Apodidae()\n",
    "print(\"blackswift.shout()->\")\n",
    "blackswift.shout()\n",
    "print(\"scarceswift.shout()->\")\n",
    "scarceswift.shout()"
   ]
  },
  {
   "cell_type": "code",
   "execution_count": 406,
   "id": "6a32c2d8-46cd-4c0d-a9c4-2e6c81f2e8d1",
   "metadata": {},
   "outputs": [
    {
     "name": "stdout",
     "output_type": "stream",
     "text": [
      "fq=[21, 32, 53, 85, 138, 223, 361]\n",
      "fw=[584, 945, 1529, 2474, 4003, 6477]\n"
     ]
    }
   ],
   "source": [
    "class Fibs():                                #迭代方法在机器学习中用于读取数据。\n",
    "    def __init__(self):\n",
    "        self.q=11\n",
    "        self.w=21\n",
    "    def next(self):                          #实现迭代器方法\n",
    "        self.q,self.w=self.w,self.q+self.w\n",
    "        return self.q\n",
    "    def __iter__(self): \n",
    "        return self\n",
    "f=Fibs()\n",
    "fq=[]\n",
    "fw=[]\n",
    "for i in range(7):\n",
    "    fq.append(f.next())\n",
    "print(\"fq={}\".format(fq))\n",
    "for i in range(6):\n",
    "    fw.append(f.next())\n",
    "print(\"fw={}\".format(fw))"
   ]
  },
  {
   "cell_type": "code",
   "execution_count": 409,
   "id": "c5989950-7d55-4c7d-99c2-236f8582b2b7",
   "metadata": {},
   "outputs": [
    {
     "name": "stdout",
     "output_type": "stream",
     "text": [
      "lst_d=[5, 8, 11, 14]\n",
      "______________________________________________________________________________\n",
      "next(lst_iter)->5\n",
      "next(lst_iter)->8\n",
      "11\n",
      "14\n"
     ]
    }
   ],
   "source": [
    "lst_d=list(range(5,15,3))\n",
    "print(\"lst_d={}\".format(lst_d))\n",
    "print(\"_\"*78)\n",
    "lst_iter=iter(lst_d)\n",
    "print(\"next(lst_iter)->{}\".format(next(lst_iter)))\n",
    "print(\"next(lst_iter)->{}\".format(next(lst_iter)))\n",
    "for i in lst_iter:\n",
    "    print(i)"
   ]
  },
  {
   "cell_type": "code",
   "execution_count": 415,
   "id": "9d2a2478-d85d-42d5-a7d6-b91d632bab6c",
   "metadata": {},
   "outputs": [
    {
     "name": "stdout",
     "output_type": "stream",
     "text": [
      "lst_e=[[4, 8, 12, 16], [1, 9, 79, [0, 1, 2, 3, 4, 5], 67]]\n",
      "_____________________________________________________________________________________\n",
      "flatten_lst=[4, 8, 12, 16, 1, 9, 79, 0, 1, 2, 3, 4, 5, 67]\n"
     ]
    }
   ],
   "source": [
    "lst_e=[list(range(4,18,4)),[1,9,79,list(range(6)),67]]       #生成器的一般方法\n",
    "print(\"lst_e={}\".format(lst_e))\n",
    "print(\"_\"*85)\n",
    "flatten_lst=[]\n",
    "for v_1 in lst_e:\n",
    "    try:\n",
    "        for v_2 in v_1:\n",
    "            try:\n",
    "                for v_3 in v_2:\n",
    "                    flatten_lst.append(v_3)\n",
    "            except TypeError:\n",
    "                flatten_lst.append(v_2)\n",
    "    except TypeError:\n",
    "        flatten_lst.append(v_1)\n",
    "print(\"flatten_lst={}\".format(flatten_lst))"
   ]
  },
  {
   "cell_type": "code",
   "execution_count": 424,
   "id": "0fc6d69a-b2a0-49ee-9832-691423d90ba8",
   "metadata": {},
   "outputs": [
    {
     "name": "stdout",
     "output_type": "stream",
     "text": [
      "next(n)->num#1\n",
      "next(n)->num#7\n",
      "next(n)->num#13\n",
      "[next(n) for i in range(4)]->['num#19', 'num#25', 'num#31', 'num#37']\n"
     ]
    }
   ],
   "source": [
    "def infinite():                           #建立无穷列表\n",
    "    n=1\n",
    "    while True:\n",
    "        yield 'num#'+str(n)\n",
    "        n+=6\n",
    "n=infinite()\n",
    "print(\"next(n)->{}\".format(next(n)))\n",
    "print(\"next(n)->{}\".format(next(n)))\n",
    "print(\"next(n)->{}\".format(next(n)))\n",
    "print(\"[next(n) for i in range(4)]->{}\".format([next(n) for i in range(4)]))"
   ]
  },
  {
   "cell_type": "code",
   "execution_count": 426,
   "id": "9c4d06ee-332b-4d0e-bf91-fa442a63c540",
   "metadata": {},
   "outputs": [
    {
     "name": "stdout",
     "output_type": "stream",
     "text": [
      "[[(2*pi*(2*(u/(n-1))-1),2*pi*(2*(v/(n-1))-1)) for u in range(n)] for v in range(n)]->[[(-6.283185307179586, -6.283185307179586), (-2.0943951023931957, -6.283185307179586), (2.094395102393195, -6.283185307179586), (6.283185307179586, -6.283185307179586)], [(-6.283185307179586, -2.0943951023931957), (-2.0943951023931957, -2.0943951023931957), (2.094395102393195, -2.0943951023931957), (6.283185307179586, -2.0943951023931957)], [(-6.283185307179586, 2.094395102393195), (-2.0943951023931957, 2.094395102393195), (2.094395102393195, 2.094395102393195), (6.283185307179586, 2.094395102393195)], [(-6.283185307179586, 6.283185307179586), (-2.0943951023931957, 6.283185307179586), (2.094395102393195, 6.283185307179586), (6.283185307179586, 6.283185307179586)]]\n",
      "__________________________________________________\n",
      "([(2*pi*(2*(u/(n-1))-1),2*pi*(2*(v/(n-1))-1)) for u in range(n)] for v in range(n))-><generator object <genexpr> at 0x000002181F1C1A50>\n",
      "next(gen)->[(-6.283185307179586, -6.283185307179586), (-2.0943951023931957, -6.283185307179586), (2.094395102393195, -6.283185307179586), (6.283185307179586, -6.283185307179586)]\n",
      "next(gen)->[(-6.283185307179586, -2.0943951023931957), (-2.0943951023931957, -2.0943951023931957), (2.094395102393195, -2.0943951023931957), (6.283185307179586, -2.0943951023931957)]\n"
     ]
    }
   ],
   "source": [
    "n=4                                           #生成器表达式\n",
    "print(\"[[(2*pi*(2*(u/(n-1))-1),2*pi*(2*(v/(n-1))-1)) for u in range(n)] for v in range(n)]->{}\".format([[(2*pi*(2*(u/(n-1))-1),2*pi*(2*(v/(n-1))-1)) for u in range(n)] for v in range(n)]))\n",
    "print(\"_\"*50)\n",
    "print(\"([(2*pi*(2*(u/(n-1))-1),2*pi*(2*(v/(n-1))-1)) for u in range(n)] for v in range(n))->{}\".format(([(2*pi*(2*(u/(n-1))-1),2*pi*(2*(v/(n-1))-1)) for u in range(n)] for v in range(n))))\n",
    "gen=([(2*pi*(2*(u/(n-1))-1),2*pi*(2*(v/(n-1))-1)) for u in range(n)] for v in range(n))\n",
    "print(\"next(gen)->{}\".format(next(gen)))\n",
    "print(\"next(gen)->{}\".format(next(gen)))"
   ]
  },
  {
   "cell_type": "code",
   "execution_count": 431,
   "id": "0c6c8f99-cd5f-4cc2-bb2a-31f1ad22ecb6",
   "metadata": {},
   "outputs": [
    {
     "name": "stdout",
     "output_type": "stream",
     "text": [
      "f_convert_a('7.89456')->7.89456\n",
      "f_convert_a('plok')->plok\n",
      "f_convert_a(5,4,9)->(5, 4, 9)\n"
     ]
    }
   ],
   "source": [
    "def f_convert_a(x)                        #try捕捉数据异常\n",
    "    try:\n",
    "        return float(x)\n",
    "    except:\n",
    "        return x\n",
    "print(\"f_convert_a('7.89456')->{}\".format(f_convert_a('7.89456')))    \n",
    "print(\"f_convert_a('plok')->{}\".format(f_convert_a('plok')))  \n",
    "print(\"f_convert_a(5,4,9)->{}\".format(f_convert_a((5,4,9))))  "
   ]
  },
  {
   "cell_type": "code",
   "execution_count": 482,
   "id": "fe23aa3e-f0ec-49af-9030-e9f2453d23cf",
   "metadata": {},
   "outputs": [
    {
     "name": "stdout",
     "output_type": "stream",
     "text": [
      "f_convert_a('612.35')->612.35\n",
      "f_convert_a('rang')->rang\n",
      "f_convert_a(4,15,2)->(4, 15, 2)\n"
     ]
    }
   ],
   "source": [
    "def f_convert_a(x):\n",
    "    try:\n",
    "        return float(x)\n",
    "    except:\n",
    "        return x\n",
    "print(\"f_convert_a('612.35')->{}\".format(f_convert_a('612.35')))    \n",
    "print(\"f_convert_a('rang')->{}\".format(f_convert_a('rang')))  \n",
    "print(\"f_convert_a(4,15,2)->{}\".format(f_convert_a((4,15,2))))  "
   ]
  },
  {
   "cell_type": "code",
   "execution_count": 494,
   "id": "a61e3e6a-8ee1-4253-a9a0-3b0d79475666",
   "metadata": {},
   "outputs": [
    {
     "name": "stdout",
     "output_type": "stream",
     "text": [
      "f_convert_c('612.35')->612.35\n",
      "f_convert_c('rang')->rang\n",
      "(4, 15, 2) c\n",
      "f_convert_c(4,15,2)->None\n"
     ]
    }
   ],
   "source": [
    "def f_convert_c(x):\n",
    "    try:\n",
    "        return float(x)\n",
    "    except ValueError:\n",
    "        return x\n",
    "    except TypeError:\n",
    "          print(x,'c')\n",
    "print(\"f_convert_c('612.35')->{}\".format(f_convert_c('612.35')))    \n",
    "print(\"f_convert_c('rang')->{}\".format(f_convert_c('rang')))  \n",
    "print(\"f_convert_c(4,15,2)->{}\".format(f_convert_c((4,15,2))))         "
   ]
  },
  {
   "cell_type": "code",
   "execution_count": 495,
   "id": "b9d5fcf5-fdef-45e6-a6b3-99eb0f7bdb3a",
   "metadata": {},
   "outputs": [
    {
     "name": "stdout",
     "output_type": "stream",
     "text": [
      "f_convert_d('612.35')->612.35\n",
      "rang ValueError or TypeError\n",
      "f_convert_d('rang')->None\n",
      "(4, 15, 2) ValueError or TypeError\n",
      "f_convert_d(4,15,2)->None\n"
     ]
    }
   ],
   "source": [
    "def f_convert_d(x):\n",
    "    try:\n",
    "        return float(x)\n",
    "    except (ValueError,TypeError):\n",
    "        print(x,'ValueError or TypeError')\n",
    "print(\"f_convert_d('612.35')->{}\".format(f_convert_d('612.35')))    \n",
    "print(\"f_convert_d('rang')->{}\".format(f_convert_d('rang')))  \n",
    "print(\"f_convert_d(4,15,2)->{}\".format(f_convert_d((4,15,2)))) "
   ]
  },
  {
   "cell_type": "code",
   "execution_count": 497,
   "id": "269f95a4-9f1c-4763-8505-a7654c82e9dc",
   "metadata": {},
   "outputs": [
    {
     "name": "stdout",
     "output_type": "stream",
     "text": [
      "f_convert_e('612.35')->612.35\n",
      "rang could not convert string to float: 'rang'\n",
      "f_convert_e('rang')->None\n",
      "(4, 15, 2) float() argument must be a string or a number, not 'tuple'\n",
      "f_convert_e(4,15,2)->None\n"
     ]
    }
   ],
   "source": [
    "def f_convert_e(x):                           #注意前面细节的不同\n",
    "    try:\n",
    "        return float(x)\n",
    "    except (ValueError,TypeError) as e:\n",
    "        return print(x,e)\n",
    "print(\"f_convert_e('612.35')->{}\".format(f_convert_e('612.35')))    \n",
    "print(\"f_convert_e('rang')->{}\".format(f_convert_e('rang')))  \n",
    "print(\"f_convert_e(4,15,2)->{}\".format(f_convert_e((4,15,2))))    "
   ]
  },
  {
   "cell_type": "code",
   "execution_count": 508,
   "id": "a6299dd9-c05c-4656-8bbe-52951f0f72a3",
   "metadata": {},
   "outputs": [
    {
     "name": "stdout",
     "output_type": "stream",
     "text": [
      "f_convert_f('612.35')->612.35\n",
      "f_convert_f('rang')->None\n",
      "f_convert_f(4,15,2)->None\n"
     ]
    }
   ],
   "source": [
    "def f_convert_f(x):\n",
    "    try:\n",
    "        return float(x)\n",
    "    except (ValueError,TypeError) as e:\n",
    "        pass\n",
    "print(\"f_convert_f('612.35')->{}\".format(f_convert_f('612.35')))    \n",
    "print(\"f_convert_f('rang')->{}\".format(f_convert_f('rang')))  \n",
    "print(\"f_convert_f(4,15,2)->{}\".format(f_convert_f((4,15,2))))      "
   ]
  },
  {
   "cell_type": "code",
   "execution_count": 437,
   "id": "006a071a-54e1-4473-893d-347fbfdbd28c",
   "metadata": {},
   "outputs": [
    {
     "name": "stdout",
     "output_type": "stream",
     "text": [
      "f_convert_b('7.89456')->0.0\n",
      "f_convert_b('plok')->0.0\n",
      "f_convert_b(5,4,9)->0.0\n"
     ]
    }
   ],
   "source": [
    "def f_convert_b(x):\n",
    "    try:\n",
    "        return float()\n",
    "    except ValueError:\n",
    "        return x\n",
    "print(\"f_convert_b('7.89456')->{}\".format(f_convert_b('7.89456')))    \n",
    "print(\"f_convert_b('plok')->{}\".format(f_convert_b('plok')))  \n",
    "print(\"f_convert_b(5,4,9)->{}\".format(f_convert_b((5,4,9))))  "
   ]
  },
  {
   "cell_type": "code",
   "execution_count": 439,
   "id": "5feb84eb-057c-45ad-a4b4-a7568b23769a",
   "metadata": {},
   "outputs": [
    {
     "name": "stdout",
     "output_type": "stream",
     "text": [
      "f_convert_c('7.89456')->7.89456\n",
      "f_convert_c('plok')->plok\n",
      "(5, 4, 9) TypeError\n",
      "f_convert_c(5,4,9)->None\n"
     ]
    }
   ],
   "source": [
    "def f_convert_c(x):                    #使用多条except可以指定多个异常处理代码块\n",
    "    try:\n",
    "        return float(x)\n",
    "    except ValueError:\n",
    "        return x\n",
    "    except TypeError:\n",
    "        print(x,'TypeError')\n",
    "print(\"f_convert_c('7.89456')->{}\".format(f_convert_c('7.89456')))    \n",
    "print(\"f_convert_c('plok')->{}\".format(f_convert_c('plok')))  \n",
    "print(\"f_convert_c(5,4,9)->{}\".format(f_convert_c((5,4,9))))         "
   ]
  },
  {
   "cell_type": "code",
   "execution_count": 441,
   "id": "a244641a-adbb-42a7-8bfa-7e1090b54d22",
   "metadata": {},
   "outputs": [
    {
     "name": "stdout",
     "output_type": "stream",
     "text": [
      "f_convert_d('7.89456')->7.89456\n",
      "plok ValueError or TypeError\n",
      "f_convert_d('plok')->None\n",
      "(5, 4, 9) ValueError or TypeError\n",
      "f_convert_d(5,4,9)->None\n"
     ]
    }
   ],
   "source": [
    "def f_convert_d(x):                 #处理程序也可以捕捉多种类型的异常\n",
    "    try:\n",
    "        return float(x)\n",
    "    except (ValueError,TypeError):\n",
    "        print(x,'ValueError or TypeError')\n",
    "print(\"f_convert_d('7.89456')->{}\".format(f_convert_d('7.89456')))    \n",
    "print(\"f_convert_d('plok')->{}\".format(f_convert_d('plok')))  \n",
    "print(\"f_convert_d(5,4,9)->{}\".format(f_convert_d((5,4,9)))) "
   ]
  },
  {
   "cell_type": "code",
   "execution_count": 444,
   "id": "5e56130c-bc74-49b5-b024-f8deaa242565",
   "metadata": {},
   "outputs": [
    {
     "name": "stdout",
     "output_type": "stream",
     "text": [
      "f_convert_d('7.89456')->7.89456\n",
      "plok ValueError or TypeError\n",
      "f_convert_d('plok')->None\n",
      "(5, 4, 9) ValueError or TypeError\n",
      "f_convert_d(5,4,9)->None\n"
     ]
    }
   ],
   "source": [
    "def f_convert_d(x):             #使用pass语句可以忽略异常           \n",
    "    try:\n",
    "        return float(x)\n",
    "    except (ValueError,TypeError):\n",
    "        print(x,'ValueError or TypeError')\n",
    "print(\"f_convert_d('7.89456')->{}\".format(f_convert_d('7.89456')))    \n",
    "print(\"f_convert_d('plok')->{}\".format(f_convert_d('plok')))  \n",
    "print(\"f_convert_d(5,4,9)->{}\".format(f_convert_d((5,4,9)))) "
   ]
  },
  {
   "cell_type": "code",
   "execution_count": 517,
   "id": "c40028c6-21e9-43a7-bf1d-943cb338b81c",
   "metadata": {},
   "outputs": [
    {
     "name": "stdout",
     "output_type": "stream",
     "text": [
      "Unable to open ./data/tryException.txt :[Errno 2] No such file or directory: './data/tryException.txt'\n",
      "\n",
      "tryException_content->None\n",
      "Unable to open ./data/tryException_.txt :[Errno 2] No such file or directory: './data/tryException_.txt'\n",
      "\n"
     ]
    }
   ],
   "source": [
    "def f_open_a(fp):                               #ry语句也支持else子句，但是不需跟在最后一个except子句的后面\n",
    "    try:\n",
    "        f=open(fp,'a')\n",
    "    except IOError as e:\n",
    "        print('Unable to open',fp,':%s\\n' %e)\n",
    "    else:\n",
    "        data=f.read()\n",
    "        f.close\n",
    "        return data\n",
    "tryException_content=f_open_a(\"./data/tryException.txt\")   \n",
    "print(\"tryException_content->{}\".format(tryException_content))\n",
    "f_open_a(\"./data/tryException_.txt\")"
   ]
  },
  {
   "cell_type": "code",
   "execution_count": null,
   "id": "565efe39-d37b-4f73-bb1e-886586394be7",
   "metadata": {},
   "outputs": [],
   "source": []
  }
 ],
 "metadata": {
  "kernelspec": {
   "display_name": "Python 3",
   "language": "python",
   "name": "python3"
  },
  "language_info": {
   "codemirror_mode": {
    "name": "ipython",
    "version": 3
   },
   "file_extension": ".py",
   "mimetype": "text/x-python",
   "name": "python",
   "nbconvert_exporter": "python",
   "pygments_lexer": "ipython3",
   "version": "3.8.8"
  }
 },
 "nbformat": 4,
 "nbformat_minor": 5
}
